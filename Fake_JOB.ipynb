{
 "cells": [
  {
   "cell_type": "code",
   "execution_count": 1,
   "metadata": {
    "id": "2VPL5fnFIG1H"
   },
   "outputs": [],
   "source": [
    "import numpy as np\n",
    "import pandas as pd\n",
    "import os\n",
    "import nltk\n",
    "from nltk.corpus import *\n",
    "from nltk.stem import PorterStemmer"
   ]
  },
  {
   "cell_type": "code",
   "execution_count": 2,
   "metadata": {
    "colab": {
     "base_uri": "https://localhost:8080/"
    },
    "id": "AJgWwTsx5Ay1",
    "outputId": "27670b9b-9971-4f2d-85e0-cf88642e0808"
   },
   "outputs": [
    {
     "name": "stderr",
     "output_type": "stream",
     "text": [
      "[nltk_data] Downloading package stopwords to\n",
      "[nltk_data]     C:\\Users\\lenovo\\AppData\\Roaming\\nltk_data...\n",
      "[nltk_data]   Package stopwords is already up-to-date!\n",
      "[nltk_data] Downloading package punkt to\n",
      "[nltk_data]     C:\\Users\\lenovo\\AppData\\Roaming\\nltk_data...\n",
      "[nltk_data]   Package punkt is already up-to-date!\n"
     ]
    },
    {
     "data": {
      "text/plain": [
       "True"
      ]
     },
     "execution_count": 2,
     "metadata": {},
     "output_type": "execute_result"
    }
   ],
   "source": [
    "\n",
    "nltk.download('stopwords')\n",
    "nltk.download('punkt')\n"
   ]
  },
  {
   "cell_type": "code",
   "execution_count": 21,
   "metadata": {
    "colab": {
     "base_uri": "https://localhost:8080/",
     "height": 556
    },
    "id": "v2_USHc-I64o",
    "outputId": "312a3af1-756a-4f9c-dd86-a6dbadffb1df"
   },
   "outputs": [
    {
     "data": {
      "text/html": [
       "<div>\n",
       "<style scoped>\n",
       "    .dataframe tbody tr th:only-of-type {\n",
       "        vertical-align: middle;\n",
       "    }\n",
       "\n",
       "    .dataframe tbody tr th {\n",
       "        vertical-align: top;\n",
       "    }\n",
       "\n",
       "    .dataframe thead th {\n",
       "        text-align: right;\n",
       "    }\n",
       "</style>\n",
       "<table border=\"1\" class=\"dataframe\">\n",
       "  <thead>\n",
       "    <tr style=\"text-align: right;\">\n",
       "      <th></th>\n",
       "      <th>job_id</th>\n",
       "      <th>title</th>\n",
       "      <th>location</th>\n",
       "      <th>department</th>\n",
       "      <th>salary_range</th>\n",
       "      <th>company_profile</th>\n",
       "      <th>description</th>\n",
       "      <th>requirements</th>\n",
       "      <th>benefits</th>\n",
       "      <th>telecommuting</th>\n",
       "      <th>has_company_logo</th>\n",
       "      <th>has_questions</th>\n",
       "      <th>employment_type</th>\n",
       "      <th>required_experience</th>\n",
       "      <th>required_education</th>\n",
       "      <th>industry</th>\n",
       "      <th>function</th>\n",
       "      <th>fraudulent</th>\n",
       "    </tr>\n",
       "  </thead>\n",
       "  <tbody>\n",
       "    <tr>\n",
       "      <th>0</th>\n",
       "      <td>17736</td>\n",
       "      <td>Administrative Assistant</td>\n",
       "      <td>US, CA, Santa Ana</td>\n",
       "      <td>NIL</td>\n",
       "      <td>NIL</td>\n",
       "      <td>NIL</td>\n",
       "      <td>In addition to clerical and administrative du...</td>\n",
       "      <td>NIL</td>\n",
       "      <td>No requirements</td>\n",
       "      <td>0</td>\n",
       "      <td>0</td>\n",
       "      <td>0</td>\n",
       "      <td>Full-time</td>\n",
       "      <td>NIL</td>\n",
       "      <td>NIL</td>\n",
       "      <td>Accounting</td>\n",
       "      <td>Administrative</td>\n",
       "      <td>1</td>\n",
       "    </tr>\n",
       "    <tr>\n",
       "      <th>1</th>\n",
       "      <td>5779</td>\n",
       "      <td>SEO Specialist</td>\n",
       "      <td>PL, MZ, Warszawa</td>\n",
       "      <td>Marketing</td>\n",
       "      <td>NIL</td>\n",
       "      <td>NIL</td>\n",
       "      <td>Positionly Inc. is a company that provides the...</td>\n",
       "      <td>1 year of experience in managing SEO campaigns...</td>\n",
       "      <td>Attractive salary, depending on experienceFull...</td>\n",
       "      <td>0</td>\n",
       "      <td>1</td>\n",
       "      <td>1</td>\n",
       "      <td>Full-time</td>\n",
       "      <td>NIL</td>\n",
       "      <td>Unspecified</td>\n",
       "      <td>Internet</td>\n",
       "      <td>Marketing</td>\n",
       "      <td>0</td>\n",
       "    </tr>\n",
       "    <tr>\n",
       "      <th>2</th>\n",
       "      <td>9687</td>\n",
       "      <td>Sql BI Developer</td>\n",
       "      <td>US, TX, Austin</td>\n",
       "      <td>NIL</td>\n",
       "      <td>NIL</td>\n",
       "      <td>NIL</td>\n",
       "      <td>Designs, develops, and maintains SSRS re...</td>\n",
       "      <td>Minimum Requirements:Years            Skills/E...</td>\n",
       "      <td>NIL</td>\n",
       "      <td>0</td>\n",
       "      <td>0</td>\n",
       "      <td>0</td>\n",
       "      <td>Contract</td>\n",
       "      <td>Mid-Senior level</td>\n",
       "      <td>NIL</td>\n",
       "      <td>NIL</td>\n",
       "      <td>NIL</td>\n",
       "      <td>0</td>\n",
       "    </tr>\n",
       "    <tr>\n",
       "      <th>3</th>\n",
       "      <td>6097</td>\n",
       "      <td>Account Manager South Africa</td>\n",
       "      <td>ZA, , Johannesburg</td>\n",
       "      <td>Sales</td>\n",
       "      <td>NIL</td>\n",
       "      <td>Upstream’s mission is to revolutionise the way...</td>\n",
       "      <td>The Account Manager SA will help derive and im...</td>\n",
       "      <td>Knowledge/Skills/ExperienceProven sales and ac...</td>\n",
       "      <td>Salary and BenefitsIncludes attractive competi...</td>\n",
       "      <td>0</td>\n",
       "      <td>1</td>\n",
       "      <td>1</td>\n",
       "      <td>Full-time</td>\n",
       "      <td>Mid-Senior level</td>\n",
       "      <td>Bachelor's Degree</td>\n",
       "      <td>Telecommunications</td>\n",
       "      <td>Sales</td>\n",
       "      <td>0</td>\n",
       "    </tr>\n",
       "    <tr>\n",
       "      <th>4</th>\n",
       "      <td>350</td>\n",
       "      <td>Embedded Systems / Telematics Security Consultant</td>\n",
       "      <td>NIL</td>\n",
       "      <td>Professional Services</td>\n",
       "      <td>NIL</td>\n",
       "      <td>Cylance is a global cybersecurity products and...</td>\n",
       "      <td>SummaryImmediate requirement for an advanced t...</td>\n",
       "      <td>QualificationsBachelor degree in Information T...</td>\n",
       "      <td>NIL</td>\n",
       "      <td>0</td>\n",
       "      <td>1</td>\n",
       "      <td>0</td>\n",
       "      <td>NIL</td>\n",
       "      <td>NIL</td>\n",
       "      <td>NIL</td>\n",
       "      <td>NIL</td>\n",
       "      <td>NIL</td>\n",
       "      <td>0</td>\n",
       "    </tr>\n",
       "  </tbody>\n",
       "</table>\n",
       "</div>"
      ],
      "text/plain": [
       "   job_id                                              title  \\\n",
       "0   17736                           Administrative Assistant   \n",
       "1    5779                                     SEO Specialist   \n",
       "2    9687                                  Sql BI Developer    \n",
       "3    6097                       Account Manager South Africa   \n",
       "4     350  Embedded Systems / Telematics Security Consultant   \n",
       "\n",
       "             location             department salary_range  \\\n",
       "0   US, CA, Santa Ana                    NIL          NIL   \n",
       "1    PL, MZ, Warszawa              Marketing          NIL   \n",
       "2      US, TX, Austin                    NIL          NIL   \n",
       "3  ZA, , Johannesburg                  Sales          NIL   \n",
       "4                 NIL  Professional Services          NIL   \n",
       "\n",
       "                                     company_profile  \\\n",
       "0                                                NIL   \n",
       "1                                                NIL   \n",
       "2                                                NIL   \n",
       "3  Upstream’s mission is to revolutionise the way...   \n",
       "4  Cylance is a global cybersecurity products and...   \n",
       "\n",
       "                                         description  \\\n",
       "0   In addition to clerical and administrative du...   \n",
       "1  Positionly Inc. is a company that provides the...   \n",
       "2        Designs, develops, and maintains SSRS re...   \n",
       "3  The Account Manager SA will help derive and im...   \n",
       "4  SummaryImmediate requirement for an advanced t...   \n",
       "\n",
       "                                        requirements  \\\n",
       "0                                                NIL   \n",
       "1  1 year of experience in managing SEO campaigns...   \n",
       "2  Minimum Requirements:Years            Skills/E...   \n",
       "3  Knowledge/Skills/ExperienceProven sales and ac...   \n",
       "4  QualificationsBachelor degree in Information T...   \n",
       "\n",
       "                                            benefits  telecommuting  \\\n",
       "0                                    No requirements              0   \n",
       "1  Attractive salary, depending on experienceFull...              0   \n",
       "2                                                NIL              0   \n",
       "3  Salary and BenefitsIncludes attractive competi...              0   \n",
       "4                                                NIL              0   \n",
       "\n",
       "   has_company_logo  has_questions employment_type required_experience  \\\n",
       "0                 0              0       Full-time                 NIL   \n",
       "1                 1              1       Full-time                 NIL   \n",
       "2                 0              0        Contract    Mid-Senior level   \n",
       "3                 1              1       Full-time    Mid-Senior level   \n",
       "4                 1              0             NIL                 NIL   \n",
       "\n",
       "  required_education            industry        function  fraudulent  \n",
       "0                NIL          Accounting  Administrative           1  \n",
       "1        Unspecified            Internet       Marketing           0  \n",
       "2                NIL                 NIL             NIL           0  \n",
       "3  Bachelor's Degree  Telecommunications           Sales           0  \n",
       "4                NIL                 NIL             NIL           0  "
      ]
     },
     "execution_count": 21,
     "metadata": {},
     "output_type": "execute_result"
    }
   ],
   "source": [
    "path = '/content/drive/MyDrive/ML_project/Dataset/'\n",
    "df1 = pd.read_csv(\"E:/Assignments/0.1_web_dev/reduced_fake_job_postings.csv\")\n",
    "df1.head()"
   ]
  },
  {
   "cell_type": "code",
   "execution_count": 22,
   "metadata": {
    "collapsed": true,
    "id": "NE019SZOLZls"
   },
   "outputs": [],
   "source": [
    "import pandas as pd\n",
    "from sklearn.feature_extraction.text import TfidfVectorizer\n",
    "from nltk.corpus import stopwords\n",
    "from nltk.tokenize import word_tokenize\n",
    "from nltk.stem import PorterStemmer\n",
    "from sklearn.model_selection import train_test_split\n",
    "from sklearn.ensemble import RandomForestClassifier\n",
    "from sklearn.metrics import classification_report\n",
    "from sklearn.preprocessing import OneHotEncoder\n",
    "import pickle\n",
    "# Load dataset\n",
    "df = pd.read_csv(\"E:/Assignments/0.1_web_dev/reduced_fake_job_postings.csv\")\n"
   ]
  },
  {
   "cell_type": "code",
   "execution_count": 23,
   "metadata": {
    "colab": {
     "base_uri": "https://localhost:8080/"
    },
    "id": "Xkwt7sS34kS9",
    "outputId": "40fc5163-827e-484b-fa07-0a53390d22b9"
   },
   "outputs": [
    {
     "name": "stdout",
     "output_type": "stream",
     "text": [
      "Index(['job_id', 'title', 'location', 'department', 'salary_range',\n",
      "       'company_profile', 'description', 'requirements', 'benefits',\n",
      "       'telecommuting', 'has_company_logo', 'has_questions', 'employment_type',\n",
      "       'required_experience', 'required_education', 'industry', 'function',\n",
      "       'fraudulent'],\n",
      "      dtype='object')\n"
     ]
    }
   ],
   "source": [
    "print(df.columns)"
   ]
  },
  {
   "cell_type": "code",
   "execution_count": 24,
   "metadata": {
    "id": "vWU-aANh4mPt"
   },
   "outputs": [],
   "source": [
    "df.columns = df.columns.str.strip()"
   ]
  },
  {
   "cell_type": "code",
   "execution_count": 25,
   "metadata": {
    "collapsed": true,
    "id": "sB3tvrccLsgB"
   },
   "outputs": [],
   "source": [
    "\n",
    "text_columns = ['company_profile', 'description', 'requirements', 'benefits']\n",
    "df[text_columns] = df[text_columns].fillna('')\n",
    "\n",
    "\n",
    "stop_words = set(stopwords.words('english'))\n",
    "ps = PorterStemmer()\n",
    "\n",
    "def preprocess_text(text):\n",
    "    # Tokenize the text\n",
    "    tokens = word_tokenize(text.lower())\n",
    "    # Remove stopwords and apply stemming\n",
    "    tokens = [ps.stem(word) for word in tokens if word.isalpha() and word not in stop_words]\n",
    "    return ' '.join(tokens)\n",
    "\n"
   ]
  },
  {
   "cell_type": "code",
   "execution_count": 26,
   "metadata": {
    "id": "RipwY1DE7rdA"
   },
   "outputs": [],
   "source": [
    "# Apply the text preprocessing function to each column\n",
    "for col in text_columns:\n",
    "    df[col] = df[col].apply(preprocess_text)"
   ]
  },
  {
   "cell_type": "code",
   "execution_count": 27,
   "metadata": {
    "id": "dYEpssWi9A3k"
   },
   "outputs": [],
   "source": [
    "text_columns = ['company_profile', 'description', 'requirements', 'benefits']\n",
    "\n",
    "# Fill NaN values with an empty string and convert all columns to strings\n",
    "df[text_columns] = df[text_columns].fillna('').astype(str)\n",
    "\n",
    "# Combine the text columns into a single column\n",
    "df['combined_text'] = df[text_columns].agg(' '.join, axis=1)\n",
    "\n",
    "# Create the TF-IDF matrix\n",
    "tfidf = TfidfVectorizer(max_features=10191)  # Adjust max_features as needed\n",
    "X_tfidf = tfidf.fit_transform(df['combined_text'])\n",
    "\n",
    "# Convert the TF-IDF matrix to a DataFrame\n",
    "X_tfidf_df = pd.DataFrame(X_tfidf.toarray(), columns=tfidf.get_feature_names_out())\n"
   ]
  },
  {
   "cell_type": "code",
   "execution_count": 28,
   "metadata": {
    "id": "fQ8vy-8k9DRG"
   },
   "outputs": [],
   "source": [
    "# Select additional feature columns\n",
    "additional_columns = ['telecommuting', 'has_company_logo', 'has_questions', 'required_experience', 'required_education', 'industry', 'function']\n",
    "df_additional = df[additional_columns].fillna('')\n",
    "\n",
    "# One-Hot Encode the categorical columns\n",
    "categorical_columns = ['required_experience', 'required_education', 'industry', 'function']\n",
    "encoder = OneHotEncoder(sparse_output=False, drop='first')\n",
    "encoded_features = encoder.fit_transform(df[['required_experience', 'required_education', 'industry', 'function']])\n",
    "df_encoded = pd.DataFrame(encoder.fit_transform(df_additional[categorical_columns]), columns=encoder.get_feature_names_out(categorical_columns))\n",
    "\n",
    "# Combine TF-IDF matrix with additional features (including encoded categorical features)\n",
    "df_additional_numeric = df_additional[['telecommuting', 'has_company_logo', 'has_questions']].fillna(0).astype(float)\n",
    "X = pd.concat([X_tfidf_df, df_additional_numeric.reset_index(drop=True), df_encoded.reset_index(drop=True)], axis=1)\n",
    "\n",
    "\n",
    "# Target column (assuming it's 'fraudulent' based on job classification)\n",
    "y = df['fraudulent']\n"
   ]
  },
  {
   "cell_type": "code",
   "execution_count": 29,
   "metadata": {
    "colab": {
     "base_uri": "https://localhost:8080/"
    },
    "id": "B5Zr0bHw9FLO",
    "outputId": "ca2f915a-eda3-47a1-9a76-5a6ecdb48189"
   },
   "outputs": [
    {
     "name": "stdout",
     "output_type": "stream",
     "text": [
      "              precision    recall  f1-score   support\n",
      "\n",
      "           0       1.00      1.00      1.00      2521\n",
      "           1       1.00      1.00      1.00      2479\n",
      "\n",
      "    accuracy                           1.00      5000\n",
      "   macro avg       1.00      1.00      1.00      5000\n",
      "weighted avg       1.00      1.00      1.00      5000\n",
      "\n"
     ]
    }
   ],
   "source": [
    "# Split data into training and testing sets\n",
    "X_train, X_test, y_train, y_test = train_test_split(X, y, test_size=0.25, random_state=42)\n",
    "\n",
    "# Train a classification model (e.g., Random Forest)\n",
    "model = RandomForestClassifier(random_state=42)\n",
    "model.fit(X_train, y_train)\n",
    "\n",
    "# Make predictions and evaluate\n",
    "y_pred = model.predict(X_test)\n",
    "print(classification_report(y_test, y_pred))\n",
    "\n",
    "\n"
   ]
  },
  {
   "cell_type": "code",
   "execution_count": 30,
   "metadata": {},
   "outputs": [],
   "source": [
    "os.makedirs('E:/Assignments/0.1_web_dev/model', exist_ok=True)\n",
    "with open('E:/Assignments/0.1_web_dev/model/model.pkl', 'wb') as model_file:\n",
    "    pickle.dump(model, model_file)\n",
    "\n",
    "with open('E:/Assignments/0.1_web_dev/model/encoder.pkl', 'wb') as encoder_file:\n",
    "    pickle.dump(encoder, encoder_file)\n",
    "\n",
    "# Also save TF-IDF Vectorizer if you’ll need it in the app\n",
    "with open('E:/Assignments/0.1_web_dev/model/tfidf.pkl', 'wb') as tfidf_file:\n",
    "    pickle.dump(tfidf, tfidf_file)"
   ]
  },
  {
   "cell_type": "code",
   "execution_count": 31,
   "metadata": {},
   "outputs": [
    {
     "name": "stdout",
     "output_type": "stream",
     "text": [
      "The sample job posting is predicted as: Legitimate\n"
     ]
    }
   ],
   "source": [
    "import pickle\n",
    "import pandas as pd\n",
    "\n",
    "# Load the saved model and vectorizer\n",
    "with open('E:/Assignments/0.1_web_dev/model/model.pkl', 'rb') as model_file:\n",
    "    model = pickle.load(model_file)\n",
    "\n",
    "with open('E:/Assignments/0.1_web_dev/model/tfidf.pkl', 'rb') as tfidf_file:\n",
    "    tfidf_vectorizer = pickle.load(tfidf_file)\n",
    "\n",
    "# Sample job posting for prediction\n",
    "sample_data = {\n",
    "    'title': 'Software Engineer',\n",
    "    'company_profile': 'A tech startup',\n",
    "    'description': 'Looking for a Python developer with AI experience.',\n",
    "    'requirements': '3+ years experience with Python and machine learning',\n",
    "    'benefits': 'Healthcare and stock options',\n",
    "}\n",
    "\n",
    "# Combine text fields similarly to training\n",
    "sample_text = ' '.join([sample_data[field] for field in ['title', 'company_profile', 'description', 'requirements', 'benefits']])\n",
    "\n",
    "# Transform text using the loaded vectorizer\n",
    "sample_text_vectorized = tfidf_vectorizer.transform([sample_text])\n",
    "\n",
    "# Create a DataFrame for the vectorized text\n",
    "sample_text_df = pd.DataFrame(sample_text_vectorized.toarray(), columns=tfidf_vectorizer.get_feature_names_out())\n",
    "\n",
    "# Add any additional features (default values or manual inputs if needed)\n",
    "additional_features = pd.DataFrame([[0, 1, 0]], columns=['telecommuting', 'has_company_logo', 'has_questions'])\n",
    "\n",
    "# Create an empty DataFrame for encoded features with the correct columns\n",
    "encoded_columns = [col for col in model.feature_names_in_ if col not in sample_text_df.columns and col not in additional_features.columns]\n",
    "encoded_features = pd.DataFrame([[0] * len(encoded_columns)], columns=encoded_columns)\n",
    "\n",
    "# Combine all features\n",
    "sample_features = pd.concat([sample_text_df, additional_features, encoded_features], axis=1)\n",
    "\n",
    "# Remove duplicate columns, if any\n",
    "sample_features = sample_features.loc[:, ~sample_features.columns.duplicated()]\n",
    "\n",
    "# Ensure columns match the model’s expected input\n",
    "sample_features = sample_features.reindex(columns=model.feature_names_in_, fill_value=0)\n",
    "\n",
    "# Predict using the loaded model\n",
    "prediction = model.predict(sample_features)\n",
    "result = 'Fraudulent' if prediction[0] == 1 else 'Legitimate'\n",
    "print(f'The sample job posting is predicted as: {result}')\n"
   ]
  },
  {
   "cell_type": "code",
   "execution_count": 32,
   "metadata": {},
   "outputs": [
    {
     "name": "stdout",
     "output_type": "stream",
     "text": [
      "Model expects 10381 features.\n",
      "Vectorizer provides 10191 features.\n"
     ]
    }
   ],
   "source": [
    "import pickle\n",
    "\n",
    "# Load the saved model and vectorizer\n",
    "with open('E:/Assignments/0.1_web_dev/model/model.pkl', 'rb') as model_file:\n",
    "    model = pickle.load(model_file)\n",
    "\n",
    "with open('E:/Assignments/0.1_web_dev/model/tfidf.pkl', 'rb') as tfidf_file:\n",
    "    tfidf_vectorizer = pickle.load(tfidf_file)\n",
    "\n",
    "# Check feature counts\n",
    "print(f\"Model expects {model.n_features_in_} features.\")\n",
    "print(f\"Vectorizer provides {tfidf_vectorizer.transform(['']).shape[1]} features.\")\n",
    "\n",
    "# If the feature counts don't match, retrain or save compatible versions\n"
   ]
  },
  {
   "cell_type": "code",
   "execution_count": 1,
   "metadata": {},
   "outputs": [
    {
     "name": "stdout",
     "output_type": "stream",
     "text": [
      "Requirement already satisfied: matplotlib in d:\\anaconda\\lib\\site-packages (3.8.4)\n",
      "Requirement already satisfied: contourpy>=1.0.1 in d:\\anaconda\\lib\\site-packages (from matplotlib) (1.2.0)\n",
      "Requirement already satisfied: cycler>=0.10 in d:\\anaconda\\lib\\site-packages (from matplotlib) (0.11.0)\n",
      "Requirement already satisfied: fonttools>=4.22.0 in d:\\anaconda\\lib\\site-packages (from matplotlib) (4.51.0)\n",
      "Requirement already satisfied: kiwisolver>=1.3.1 in d:\\anaconda\\lib\\site-packages (from matplotlib) (1.4.4)\n",
      "Requirement already satisfied: numpy>=1.21 in d:\\anaconda\\lib\\site-packages (from matplotlib) (1.26.4)\n",
      "Requirement already satisfied: packaging>=20.0 in d:\\anaconda\\lib\\site-packages (from matplotlib) (23.2)\n",
      "Requirement already satisfied: pillow>=8 in d:\\anaconda\\lib\\site-packages (from matplotlib) (10.3.0)\n",
      "Requirement already satisfied: pyparsing>=2.3.1 in d:\\anaconda\\lib\\site-packages (from matplotlib) (3.0.9)\n",
      "Requirement already satisfied: python-dateutil>=2.7 in d:\\anaconda\\lib\\site-packages (from matplotlib) (2.9.0.post0)\n",
      "Requirement already satisfied: six>=1.5 in d:\\anaconda\\lib\\site-packages (from python-dateutil>=2.7->matplotlib) (1.16.0)\n",
      "Note: you may need to restart the kernel to use updated packages.\n"
     ]
    }
   ],
   "source": [
    "pip install matplotlib"
   ]
  },
  {
   "cell_type": "code",
   "execution_count": 33,
   "metadata": {},
   "outputs": [
    {
     "data": {
      "image/png": "[encoded data removed]",
      "text/plain": [
       "<Figure size 1000x600 with 2 Axes>"
      ]
     },
     "metadata": {},
     "output_type": "display_data"
    }
   ],
   "source": [
    "from sklearn.metrics import classification_report\n",
    "import seaborn as sns\n",
    "import pandas as pd\n",
    "import matplotlib.pyplot as plt\n",
    "# Get classification report as a dictionary\n",
    "report = classification_report(y_test, y_pred, target_names=['Legitimate', 'Fraudulent'], output_dict=True)\n",
    "\n",
    "# Convert to DataFrame for easier plotting\n",
    "report_df = pd.DataFrame(report).transpose()\n",
    "\n",
    "# Plot with Seaborn\n",
    "plt.figure(figsize=(10, 6))\n",
    "sns.heatmap(report_df.iloc[:-1, :-1], annot=True, cmap=\"YlGnBu\", fmt=\".2f\")\n",
    "plt.title('Classification Report')\n",
    "plt.show()\n"
   ]
  },
  {
   "cell_type": "code",
   "execution_count": 34,
   "metadata": {},
   "outputs": [
    {
     "data": {
      "image/png": "[encoded data removed]",
      "text/plain": [
       "<Figure size 640x480 with 1 Axes>"
      ]
     },
     "metadata": {},
     "output_type": "display_data"
    }
   ],
   "source": [
    "from sklearn.metrics import roc_curve, auc\n",
    "\n",
    "# Assuming y_test and y_scores are defined\n",
    "fpr, tpr, _ = roc_curve(y_test, y_pred)\n",
    "roc_auc = auc(fpr, tpr)\n",
    "\n",
    "plt.plot(fpr, tpr, label=f'ROC Curve (area = {roc_auc:.2f})')\n",
    "plt.plot([0, 1], [0, 1], 'k--')  # Diagonal line\n",
    "plt.xlabel('False Positive Rate')\n",
    "plt.ylabel('True Positive Rate')\n",
    "plt.title('ROC Curve')\n",
    "plt.legend(loc=\"lower right\")\n",
    "plt.show()\n"
   ]
  },
  {
   "cell_type": "code",
   "execution_count": 35,
   "metadata": {},
   "outputs": [
    {
     "data": {
      "image/png": "[encoded data removed]",
      "text/plain": [
       "<Figure size 640x480 with 2 Axes>"
      ]
     },
     "metadata": {},
     "output_type": "display_data"
    }
   ],
   "source": [
    "import matplotlib.pyplot as plt\n",
    "from sklearn.metrics import confusion_matrix, ConfusionMatrixDisplay\n",
    "\n",
    "# Assuming y_test and y_pred are defined\n",
    "cm = confusion_matrix(y_test, y_pred)\n",
    "disp = ConfusionMatrixDisplay(confusion_matrix=cm, display_labels=['Legitimate', 'Fraudulent'])\n",
    "disp.plot(cmap='Blues')\n",
    "plt.title('Confusion Matrix')\n",
    "plt.show()\n"
   ]
  }
 ],
 "metadata": {
  "colab": {
   "provenance": []
  },
  "kernelspec": {
   "display_name": "base",
   "language": "python",
   "name": "python3"
  },
  "language_info": {
   "codemirror_mode": {
    "name": "ipython",
    "version": 3
   },
   "file_extension": ".py",
   "mimetype": "text/x-python",
   "name": "python",
   "nbconvert_exporter": "python",
   "pygments_lexer": "ipython3",
   "version": "3.12.3"
  }
 },
 "nbformat": 4,
 "nbformat_minor": 0
}
